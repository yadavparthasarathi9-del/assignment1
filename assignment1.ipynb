{
  "nbformat": 4,
  "nbformat_minor": 0,
  "metadata": {
    "colab": {
      "provenance": []
    },
    "kernelspec": {
      "name": "python3",
      "display_name": "Python 3"
    },
    "language_info": {
      "name": "python"
    }
  },
  "cells": [
    {
      "cell_type": "code",
      "execution_count": null,
      "metadata": {
        "id": "8SEQ-QuxLhCa"
      },
      "outputs": [],
      "source": [
        "solution\n"
      ]
    },
    {
      "cell_type": "code",
      "source": [],
      "metadata": {
        "id": "vmC1zqZgMrgH"
      },
      "execution_count": null,
      "outputs": []
    },
    {
      "cell_type": "markdown",
      "source": [
        "*python basic question*\n",
        "\n",
        "          1. What is Python, and why is it popular?\n",
        "\n",
        "          ->Python is a high-level, versatile programming language known for its readability and ease of use. It's popular for web development, data science, machine learning, and scripting due to its simple syntax, extensive libraries, and strong community support.It is popular because of follwing points:\n",
        "          * ease of learning\n",
        "          * versatlity\n",
        "          * a lot of libraries and huge active community\n",
        "\n",
        "          2.What is an interpreter in Python?\n",
        "\n",
        "          ->An interpreter in Python is a program that directly executes Python code without requiring it to be compiled into machine language beforehand.\n",
        "\n",
        "          3.What are pre-defined keywords in Python?\n",
        "\n",
        "          ->Predefined keywords in Python are reserved words that hold special meaning and functionality within the language.we cannot use pre-defined keywords as variable name.\n",
        "\n",
        "          4.Can keywords be used as variable names?\n",
        "\n",
        "          ->No,we cannot use keywords as varibale name.\n",
        "          keywords have predefined meaning and if we use keywords as varaible it give error.\n",
        "\n",
        "          5.What is mutability in Python ?\n",
        "\n",
        "          ->The meaning of mutability in python is that we can change the value after we have created it.\n",
        "\n",
        "          6.Why are lists mutable, but tuples are immutable ?\n",
        "\n",
        "          ->A list is designed to be a flexible, dynamic data structure.\n",
        "          You can add, remove, or change elements.\n",
        "          It's built to allow modifications after creation.\n",
        "\n",
        "          A tuple is meant to be a fixed, unchangeable collection of values.\n",
        "          You cannot change the contents once it's created.\n",
        "          This makes tuples hashable, so they can be used as dictionary keys or in sets.\n",
        "          They also offer performance advantages (faster, use less memory).\n",
        "\n",
        "\n",
        "          7.What is the difference between “==” and “is” operators in Python ?\n",
        "\n",
        "          -> \"==\" operator is used to compare the value of  an object. It compares whether values are same or not.\n",
        "          \"is\" operator is uesd to check the identity of the two objects.\n",
        "\n",
        "          8.What are logical operators in Python ?\n",
        "\n",
        "          ->Logical operators in Python are used to combine conditional statements and evaluate expressions based on their truth values (True or False).There are three types of logical operator -\n",
        "          * and - True if both are true\n",
        "          * or - True if one is true\n",
        "          * not - Reverse condition\n",
        "\n",
        "          9.What is type casting in Python?\n",
        "\n",
        "          ->Type casting is also knpown as type conversion.It is the process of converting value from one data tyep to another data type.\n",
        "          * int() - converts value to integer\n",
        "          * float() -converts value to floating point      number\n",
        "          * str() - converts value to string\n",
        "          * bool() - converts value to boolean\n",
        "\n",
        "          10.What is the difference between implicit and explicit type casting ?\n",
        "\n",
        "          -> Implicit is a type of conversion that is performed automatically by the compiler or interpretr without using explicit instruction from the programmer.\n",
        "                          Explicit is a type of conversion that is not performed automatically .It is done by using casting operator or function provided by the language.\n",
        "\n",
        "        11.What is the purpose of conditional statements in Python ?\n",
        "\n",
        "        -> The main puprose of conditional statement in python is to execute certain blocks of code based on whether a condition is true or false.It is of three types -\n",
        "        * if- statement\n",
        "        *if-else statement\n",
        "        *if-elif-else statement\n",
        "\n",
        "\n",
        "        12.How does the elif statement work?\n",
        "\n",
        "        -> The elif if statement works on multiple condition.The working of elif can be understand in the following ways -\n",
        "        * at first the 'if' statement is checked.If the 'if' statement is true then code within the 'if' statement is executed and if it is false then it checks the elif statement.\n",
        "\n",
        "        * Now the 'elif' statement is checked based on the condition of programe .If the condition in the 'elif' statement is true then the code within the 'elif' statement is executed.\n",
        "\n",
        "        *Now at last the 'else' condition is checked in the programe. when all the 'if' anf 'elif' condition are false the 'else' statement is exdcuted.\n",
        "\n",
        "\n",
        "        13.What is the difference between for and while loops ?\n",
        "\n",
        "        ->'For' loop is basically used when the number of iterations is known that is we exactly know how many times to run the loop.\n",
        "                                  'while' loop works on the basis of the conditio given to it.The 'while' loop is repeated until the condition becomes false.\n",
        "\n",
        "       14.Describe a scenario where a while loop is more suitable than a for loop.\n",
        "\n",
        "       ->A while loop is more suitable than a for loop in a condition where  we don't know the number of iteration in advance that is if we want to go through with a string and we dont know the ending iteration beacuse the string is based on the users input so it may vary according to the users input.\n",
        "       so in this case we prefer while loop over the for loop for better and smooth execution of the programe."
      ],
      "metadata": {
        "id": "Zf9zuy2_LjEo"
      }
    },
    {
      "cell_type": "code",
      "source": [
        "#1\n",
        "print(\"hello world\" )"
      ],
      "metadata": {
        "colab": {
          "base_uri": "https://localhost:8080/"
        },
        "id": "0zF92w5fM08K",
        "outputId": "f6bcbe8f-b635-4625-d218-f2dfa4013738"
      },
      "execution_count": 2,
      "outputs": [
        {
          "output_type": "stream",
          "name": "stdout",
          "text": [
            "hello world\n"
          ]
        }
      ]
    },
    {
      "cell_type": "code",
      "source": [
        "#2\n",
        "print(\"my name is partha sarathi yadav and my age is 22\")\n"
      ],
      "metadata": {
        "colab": {
          "base_uri": "https://localhost:8080/"
        },
        "id": "7ump_4D3NkQL",
        "outputId": "3d73ffec-6b43-475d-b8a3-6a310452fdb7"
      },
      "execution_count": 3,
      "outputs": [
        {
          "output_type": "stream",
          "name": "stdout",
          "text": [
            "my name is partha sarathi yadav and my age is 22\n"
          ]
        }
      ]
    },
    {
      "cell_type": "code",
      "source": [
        "#3\n",
        "help('keywords')\n",
        "\n"
      ],
      "metadata": {
        "colab": {
          "base_uri": "https://localhost:8080/"
        },
        "id": "LE3iQ_lrN5_f",
        "outputId": "9a7308d7-d811-4d57-bdd7-99baa1f6df5c"
      },
      "execution_count": 8,
      "outputs": [
        {
          "output_type": "stream",
          "name": "stdout",
          "text": [
            "\n",
            "Here is a list of the Python keywords.  Enter any keyword to get more help.\n",
            "\n",
            "False               class               from                or\n",
            "None                continue            global              pass\n",
            "True                def                 if                  raise\n",
            "and                 del                 import              return\n",
            "as                  elif                in                  try\n",
            "assert              else                is                  while\n",
            "async               except              lambda              with\n",
            "await               finally             nonlocal            yield\n",
            "break               for                 not                 \n",
            "\n"
          ]
        }
      ]
    },
    {
      "cell_type": "markdown",
      "source": [
        "\n"
      ],
      "metadata": {
        "id": "r8CCqQozMYVV"
      }
    },
    {
      "cell_type": "code",
      "source": [
        "#4\n",
        "import keyword\n",
        "word = input(\"enter the word :\")\n",
        "if word in keyword.kwlist :\n",
        "  print(word,\"is a python keyword\")\n",
        "else :\n",
        "    print(word,\"is not a python keyword\")"
      ],
      "metadata": {
        "colab": {
          "base_uri": "https://localhost:8080/"
        },
        "id": "BGJWCtYgRaPU",
        "outputId": "57b61f2b-cd47-4491-f3f6-78e6c5871845"
      },
      "execution_count": 9,
      "outputs": [
        {
          "output_type": "stream",
          "name": "stdout",
          "text": [
            "enter the word :else\n",
            "else is a python keyword\n"
          ]
        }
      ]
    },
    {
      "cell_type": "code",
      "source": [
        "#5\n",
        "list= [10,20,30,40,50,60]\n",
        "print(list)\n",
        "list[5]=100\n",
        "print(list)\n",
        "print(\"=\"*80)\n",
        "tup = (10,20,30,40,50,60)\n",
        "print(tup)\n",
        "tup[0]=1\n",
        "print(tup)"
      ],
      "metadata": {
        "colab": {
          "base_uri": "https://localhost:8080/",
          "height": 263
        },
        "id": "bHXhlxr9SXjb",
        "outputId": "e9d73bb6-5ef0-4cc1-fd14-49eba6041560"
      },
      "execution_count": 11,
      "outputs": [
        {
          "output_type": "stream",
          "name": "stdout",
          "text": [
            "[10, 20, 30, 40, 50, 60]\n",
            "[10, 20, 30, 40, 50, 100]\n",
            "================================================================================\n",
            "(10, 20, 30, 40, 50, 60)\n"
          ]
        },
        {
          "output_type": "error",
          "ename": "TypeError",
          "evalue": "'tuple' object does not support item assignment",
          "traceback": [
            "\u001b[0;31m---------------------------------------------------------------------------\u001b[0m",
            "\u001b[0;31mTypeError\u001b[0m                                 Traceback (most recent call last)",
            "\u001b[0;32m/tmp/ipython-input-2727973493.py\u001b[0m in \u001b[0;36m<cell line: 0>\u001b[0;34m()\u001b[0m\n\u001b[1;32m      7\u001b[0m \u001b[0mtup\u001b[0m \u001b[0;34m=\u001b[0m \u001b[0;34m(\u001b[0m\u001b[0;36m10\u001b[0m\u001b[0;34m,\u001b[0m\u001b[0;36m20\u001b[0m\u001b[0;34m,\u001b[0m\u001b[0;36m30\u001b[0m\u001b[0;34m,\u001b[0m\u001b[0;36m40\u001b[0m\u001b[0;34m,\u001b[0m\u001b[0;36m50\u001b[0m\u001b[0;34m,\u001b[0m\u001b[0;36m60\u001b[0m\u001b[0;34m)\u001b[0m\u001b[0;34m\u001b[0m\u001b[0;34m\u001b[0m\u001b[0m\n\u001b[1;32m      8\u001b[0m \u001b[0mprint\u001b[0m\u001b[0;34m(\u001b[0m\u001b[0mtup\u001b[0m\u001b[0;34m)\u001b[0m\u001b[0;34m\u001b[0m\u001b[0;34m\u001b[0m\u001b[0m\n\u001b[0;32m----> 9\u001b[0;31m \u001b[0mtup\u001b[0m\u001b[0;34m[\u001b[0m\u001b[0;36m0\u001b[0m\u001b[0;34m]\u001b[0m\u001b[0;34m=\u001b[0m\u001b[0;36m1\u001b[0m\u001b[0;34m\u001b[0m\u001b[0;34m\u001b[0m\u001b[0m\n\u001b[0m\u001b[1;32m     10\u001b[0m \u001b[0mprint\u001b[0m\u001b[0;34m(\u001b[0m\u001b[0mtup\u001b[0m\u001b[0;34m)\u001b[0m\u001b[0;34m\u001b[0m\u001b[0;34m\u001b[0m\u001b[0m\n",
            "\u001b[0;31mTypeError\u001b[0m: 'tuple' object does not support item assignment"
          ]
        }
      ]
    },
    {
      "cell_type": "code",
      "source": [
        "#6\n",
        "def modify_data(num, my_list):\n",
        "    # Immutable: integers cannot be changed in place\n",
        "    num = num + 10\n",
        "\n",
        "    # Mutable: lists can be changed in place\n",
        "    my_list.append(100)\n",
        "\n",
        "    print(\"Inside function - num:\", num)\n",
        "    print(\"Inside function - my_list:\", my_list)\n",
        "\n",
        "\n",
        "# Immutable variable (integer)\n",
        "x = 5\n",
        "\n",
        "# Mutable variable (list)\n",
        "y = [1, 2, 3]\n",
        "\n",
        "print(\"Before function call - x:\", x)\n",
        "print(\"Before function call - y:\", y)\n",
        "\n",
        "# Call the function\n",
        "modify_data(x, y)\n",
        "\n",
        "print(\"After function call - x:\", x)     # unchanged\n",
        "print(\"After function call - y:\", y)     # changed"
      ],
      "metadata": {
        "colab": {
          "base_uri": "https://localhost:8080/"
        },
        "id": "i6weDAZQS47U",
        "outputId": "df0f5ed3-b123-4ac8-83fd-b08b394187c3"
      },
      "execution_count": 12,
      "outputs": [
        {
          "output_type": "stream",
          "name": "stdout",
          "text": [
            "Before function call - x: 5\n",
            "Before function call - y: [1, 2, 3]\n",
            "Inside function - num: 15\n",
            "Inside function - my_list: [1, 2, 3, 100]\n",
            "After function call - x: 5\n",
            "After function call - y: [1, 2, 3, 100]\n"
          ]
        }
      ]
    },
    {
      "cell_type": "code",
      "source": [
        "#7\n",
        "um1 = int(input(\"Enter the first number : \"))\n",
        "num2 = int(input(\"Enter the second number : \"))\n",
        "print(\"=\" * 100)\n",
        "print(\"Addition of \",num1,\"and\",num2,\"is\",num1 + num2)\n",
        "print(\"subtraction of \",num1,\"and\",num2,\"is\",num1 - num2)\n",
        "print(\"multiplication of \",num1,\"and\",num2,\"is\",num1 * num2)\n",
        "print(\"Division of \",num1,\"and\",num2,\"is\",num1 / num2)\n",
        "print(\"Floor division of \",num1,\"and\",num2,\"is\",num1 //num2)\n",
        "print(\"power of \",num1,\"and\",num2,\"is\",num1 ** num2)\n",
        "print(\"Modulus of \",num1,\"and\",num2,\"is\",num1 % num2)"
      ],
      "metadata": {
        "colab": {
          "base_uri": "https://localhost:8080/",
          "height": 263
        },
        "id": "-jXRkiXETORa",
        "outputId": "d69f9015-bbf9-4f7f-fc5d-d412e9977be0"
      },
      "execution_count": 15,
      "outputs": [
        {
          "output_type": "stream",
          "name": "stdout",
          "text": [
            "Enter the first number : 4\n",
            "Enter the second number : 6\n",
            "====================================================================================================\n"
          ]
        },
        {
          "output_type": "error",
          "ename": "NameError",
          "evalue": "name 'num1' is not defined",
          "traceback": [
            "\u001b[0;31m---------------------------------------------------------------------------\u001b[0m",
            "\u001b[0;31mNameError\u001b[0m                                 Traceback (most recent call last)",
            "\u001b[0;32m/tmp/ipython-input-2340917694.py\u001b[0m in \u001b[0;36m<cell line: 0>\u001b[0;34m()\u001b[0m\n\u001b[1;32m      3\u001b[0m \u001b[0mnum2\u001b[0m \u001b[0;34m=\u001b[0m \u001b[0mint\u001b[0m\u001b[0;34m(\u001b[0m\u001b[0minput\u001b[0m\u001b[0;34m(\u001b[0m\u001b[0;34m\"Enter the second number : \"\u001b[0m\u001b[0;34m)\u001b[0m\u001b[0;34m)\u001b[0m\u001b[0;34m\u001b[0m\u001b[0;34m\u001b[0m\u001b[0m\n\u001b[1;32m      4\u001b[0m \u001b[0mprint\u001b[0m\u001b[0;34m(\u001b[0m\u001b[0;34m\"=\"\u001b[0m \u001b[0;34m*\u001b[0m \u001b[0;36m100\u001b[0m\u001b[0;34m)\u001b[0m\u001b[0;34m\u001b[0m\u001b[0;34m\u001b[0m\u001b[0m\n\u001b[0;32m----> 5\u001b[0;31m \u001b[0mprint\u001b[0m\u001b[0;34m(\u001b[0m\u001b[0;34m\"Addition of \"\u001b[0m\u001b[0;34m,\u001b[0m\u001b[0mnum1\u001b[0m\u001b[0;34m,\u001b[0m\u001b[0;34m\"and\"\u001b[0m\u001b[0;34m,\u001b[0m\u001b[0mnum2\u001b[0m\u001b[0;34m,\u001b[0m\u001b[0;34m\"is\"\u001b[0m\u001b[0;34m,\u001b[0m\u001b[0mnum1\u001b[0m \u001b[0;34m+\u001b[0m \u001b[0mnum2\u001b[0m\u001b[0;34m)\u001b[0m\u001b[0;34m\u001b[0m\u001b[0;34m\u001b[0m\u001b[0m\n\u001b[0m\u001b[1;32m      6\u001b[0m \u001b[0mprint\u001b[0m\u001b[0;34m(\u001b[0m\u001b[0;34m\"subtraction of \"\u001b[0m\u001b[0;34m,\u001b[0m\u001b[0mnum1\u001b[0m\u001b[0;34m,\u001b[0m\u001b[0;34m\"and\"\u001b[0m\u001b[0;34m,\u001b[0m\u001b[0mnum2\u001b[0m\u001b[0;34m,\u001b[0m\u001b[0;34m\"is\"\u001b[0m\u001b[0;34m,\u001b[0m\u001b[0mnum1\u001b[0m \u001b[0;34m-\u001b[0m \u001b[0mnum2\u001b[0m\u001b[0;34m)\u001b[0m\u001b[0;34m\u001b[0m\u001b[0;34m\u001b[0m\u001b[0m\n\u001b[1;32m      7\u001b[0m \u001b[0mprint\u001b[0m\u001b[0;34m(\u001b[0m\u001b[0;34m\"multiplication of \"\u001b[0m\u001b[0;34m,\u001b[0m\u001b[0mnum1\u001b[0m\u001b[0;34m,\u001b[0m\u001b[0;34m\"and\"\u001b[0m\u001b[0;34m,\u001b[0m\u001b[0mnum2\u001b[0m\u001b[0;34m,\u001b[0m\u001b[0;34m\"is\"\u001b[0m\u001b[0;34m,\u001b[0m\u001b[0mnum1\u001b[0m \u001b[0;34m*\u001b[0m \u001b[0mnum2\u001b[0m\u001b[0;34m)\u001b[0m\u001b[0;34m\u001b[0m\u001b[0;34m\u001b[0m\u001b[0m\n",
            "\u001b[0;31mNameError\u001b[0m: name 'num1' is not defined"
          ]
        }
      ]
    },
    {
      "cell_type": "code",
      "source": [
        "#8\n",
        "x = True\n",
        "y = False\n",
        "\n",
        "print(\"x and y is :\",x and y)  # use of and opearator- if both values are True then it is true otherswise false\n",
        "print(\"x and y is :\",x or y) # use of or operator - if any one value is true then it is true\n",
        "print(\" not x is :\",not x) # use of not operator if it is true then it becomes false or vice versa"
      ],
      "metadata": {
        "colab": {
          "base_uri": "https://localhost:8080/"
        },
        "id": "3LKsl-18T8Ey",
        "outputId": "ab28d114-942a-4c39-9f0f-5ed57d951042"
      },
      "execution_count": 16,
      "outputs": [
        {
          "output_type": "stream",
          "name": "stdout",
          "text": [
            "x and y is : False\n",
            "x and y is : True\n",
            " not x is : False\n"
          ]
        }
      ]
    },
    {
      "cell_type": "code",
      "source": [
        "#9\n",
        "val = input(\"Enter the value :\")\n",
        "print(type(val))\n",
        "val1=int(val)\n",
        "print(type(val1))\n",
        "val=float(val)\n",
        "print(type(val))\n",
        "val=bool(val)\n",
        "print(type(val))\n"
      ],
      "metadata": {
        "id": "z1Bz2SMUUMjk"
      },
      "execution_count": null,
      "outputs": []
    },
    {
      "cell_type": "code",
      "source": [
        "#10\n",
        "tr_num = [\"10\",\"20\",\"30\",\"40\"]\n",
        "\n",
        "int_num = []\n",
        "\n",
        "for val in str_num :\n",
        "  int_num.append(int(val))\n",
        "\n",
        "print(\"original string is :\",str_num)\n",
        "print(\"type casted string is :\",int_num)"
      ],
      "metadata": {
        "id": "WNFF4OGsUaTc"
      },
      "execution_count": null,
      "outputs": []
    },
    {
      "cell_type": "code",
      "source": [
        "#11\n",
        "num = int(input(\"Emter the number :\"))\n",
        "\n",
        "if num==0 :\n",
        "  print(num,\"is a zero number\")\n",
        "elif num>=1 :\n",
        "  print(num,\"is a positive number\")\n",
        "else :\n",
        "  print(num,\"is a negative number\")"
      ],
      "metadata": {
        "id": "ljS7bf32UopU"
      },
      "execution_count": null,
      "outputs": []
    },
    {
      "cell_type": "code",
      "source": [
        "#12\n",
        "for i in range(1 ,11) :\n",
        "  print(i)"
      ],
      "metadata": {
        "id": "LZyjBHFVUt99"
      },
      "execution_count": null,
      "outputs": []
    },
    {
      "cell_type": "code",
      "source": [
        "#13\n",
        "for i in range(2,51,2) :\n",
        "   num = i + num\n",
        "\n",
        "print(\"sum all of even number are :\",num)\n"
      ],
      "metadata": {
        "id": "N7nIVBlGUyfq"
      },
      "execution_count": null,
      "outputs": []
    },
    {
      "cell_type": "code",
      "source": [
        "#taking string as a input from the user\n",
        "org_str = input(\"Enetr the str :\")\n",
        "\n",
        "#initializing empty str for storing reverse string\n",
        "rev_str =\"\"\n",
        "\n",
        "# finding the length of the string\n",
        "length = len(org_str)\n",
        "\n",
        "# finding the last index of the string\n",
        "index = length-1\n",
        "\n",
        "# declearing while loop from last index to index 0\n",
        "while index >= 0:\n",
        "  #storing the reverse string in the empty str\n",
        "  rev_str = rev_str + org_str[index]\n",
        "  index = index-1\n",
        "\n",
        "print(\"the original string is =\",org_str)\n",
        "print(\"the reverse string is =\",rev_str)"
      ],
      "metadata": {
        "id": "lAeHqc9-U6Ts"
      },
      "execution_count": null,
      "outputs": []
    },
    {
      "cell_type": "code",
      "source": [
        "#15\n",
        "num = int(input(\"eneter the number :\"))\n",
        "\n",
        "fact = 1\n",
        "\n",
        "if num < 0 :\n",
        "  print(\"factorial of negative number is not defined :\")\n",
        "elif num ==0 :\n",
        "  print(\"factorial of 0 is 1\")\n",
        "else :\n",
        "  while num > 0 :\n",
        "    fact = fact * num\n",
        "    num = num-1\n",
        "\n",
        "\n",
        "print(\" The factorial is =\",fact)\n",
        "\n"
      ],
      "metadata": {
        "id": "aR_2bPc5VRIc"
      },
      "execution_count": null,
      "outputs": []
    }
  ]
}